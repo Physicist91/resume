{
 "cells": [
  {
   "cell_type": "code",
   "execution_count": 2,
   "metadata": {},
   "outputs": [],
   "source": [
    "import getpass\n",
    "import os\n",
    "\n",
    "os.environ[\"GOOGLE_API_KEY\"] = getpass.getpass()"
   ]
  },
  {
   "cell_type": "code",
   "execution_count": 3,
   "metadata": {},
   "outputs": [],
   "source": [
    "from langchain_google_genai import ChatGoogleGenerativeAI\n",
    "\n",
    "model = ChatGoogleGenerativeAI(model=\"gemini-pro\")"
   ]
  },
  {
   "cell_type": "code",
   "execution_count": 4,
   "metadata": {},
   "outputs": [
    {
     "data": {
      "text/plain": [
       "\"What do you call an ice cream that's always telling jokes?\\n\\nA sundae pun-day!\""
      ]
     },
     "execution_count": 4,
     "metadata": {},
     "output_type": "execute_result"
    }
   ],
   "source": [
    "from langchain_core.output_parsers import StrOutputParser\n",
    "from langchain_core.prompts import ChatPromptTemplate\n",
    "\n",
    "prompt = ChatPromptTemplate.from_template(\"tell me a short joke about {topic}\")\n",
    "output_parser = StrOutputParser()\n",
    "\n",
    "chain = prompt | model | output_parser\n",
    "\n",
    "chain.invoke({\"topic\": \"ice cream\"})"
   ]
  },
  {
   "cell_type": "code",
   "execution_count": 5,
   "metadata": {},
   "outputs": [],
   "source": [
    "from PyPDF2 import PdfReader \n",
    "from pdfplumber import pdf"
   ]
  },
  {
   "cell_type": "code",
   "execution_count": 6,
   "metadata": {},
   "outputs": [],
   "source": [
    "pdf_path = \"original_resume/Kevin Siswandi - Resume.pdf\"\n",
    "\n",
    "def load_split_pdf(pdf_path):\n",
    "    pdf_loader = PdfReader(open(pdf_path, \"rb\"))\n",
    "    pdf_text = \"\"\n",
    "    for page_num in range(len(pdf_loader.pages)):\n",
    "        pdf_page = pdf_loader.pages[page_num]\n",
    "        pdf_text += pdf_page.extract_text()\n",
    "    return pdf_text"
   ]
  },
  {
   "cell_type": "code",
   "execution_count": 7,
   "metadata": {},
   "outputs": [],
   "source": [
    "resume_info = load_split_pdf(pdf_path)"
   ]
  },
  {
   "cell_type": "code",
   "execution_count": 33,
   "metadata": {},
   "outputs": [],
   "source": [
    "job_path = \"job_description/job3.txt\"\n",
    "\n",
    "with open(job_path) as f:\n",
    "    job_desc = f.readlines()\n",
    "job_desc = '/n'.join(job_desc)"
   ]
  },
  {
   "cell_type": "code",
   "execution_count": 34,
   "metadata": {},
   "outputs": [],
   "source": [
    "prompt = ChatPromptTemplate.from_template(\"Summarize the following job description {job_desc}\")\n",
    "output_parser = StrOutputParser()\n",
    "\n",
    "chain = prompt | model | output_parser\n",
    "\n",
    "job_summ = chain.invoke({\"job_desc\": job_desc})"
   ]
  },
  {
   "cell_type": "code",
   "execution_count": 35,
   "metadata": {},
   "outputs": [
    {
     "name": "stdout",
     "output_type": "stream",
     "text": [
      "Snowflake, a data platform provider, seeks Sales Engineers with technical expertise to engage with customers and demonstrate the value of its data platform. The ideal candidate has:\n",
      "\n",
      "**Responsibilities:**\n",
      "\n",
      "* Present Snowflake's technology and vision to executives and technical contributors\n",
      "* Collaborate with prospects and customers to demonstrate and communicate the solution's benefits\n",
      "* Track competitive and complementary technologies to position Snowflake effectively\n",
      "* Collaborate with Product Management, Engineering, and Marketing to enhance products and marketing strategies\n",
      "* Foster trust with technical audiences on the customer side\n",
      "\n",
      "**Minimum Requirements:**\n",
      "\n",
      "* 5+ years of experience in a customer-facing technical role\n",
      "* 5+ years as a data architect, data scientist, or data engineer\n",
      "* Exceptional presentation skills for technical and executive audiences\n",
      "* Comprehensive understanding of data stack and workflow\n",
      "* Strong database, data warehouse, and data processing skills\n",
      "* Proficiency in SQL and Python\n",
      "\n",
      "**Desired Qualifications:**\n",
      "\n",
      "* Data Science knowledge and experience\n",
      "* University degree in computer science or related field\n",
      "* Software development experience with Java, Spark, and other scripting languages\n",
      "* Experience with large-scale database technology\n",
      "* Proven sales success in data and analytics software\n",
      "* Familiarity with BI tools, cloud providers, and AWS services\n",
      "\n",
      "**Added Bonus:**\n",
      "\n",
      "* Strong Data Science/AI/ML experience\n",
      "* OLAP data modeling and architecture experience\n",
      "* Enterprise SaaS software sales experience\n",
      "* Success at enterprise software start-ups\n"
     ]
    }
   ],
   "source": [
    "print(job_summ)"
   ]
  },
  {
   "cell_type": "code",
   "execution_count": 48,
   "metadata": {},
   "outputs": [],
   "source": [
    "prompt = ChatPromptTemplate.from_template(\"Make a personalized resume with the following information {info},\\\n",
    "                                           to apply to a job with a description {job_summ}.\\\n",
    "                                           Please stay truthful to the given information, and do not make up numbers.\")\n",
    "output_parser = StrOutputParser()\n",
    "\n",
    "chain = prompt | model | output_parser\n",
    "\n",
    "result = chain.invoke({\"job_summ\": job_summ, \"info\": resume_info})"
   ]
  },
  {
   "cell_type": "code",
   "execution_count": 50,
   "metadata": {},
   "outputs": [
    {
     "data": {
      "text/markdown": [
       "**Kevin Siswandi** | 吴建和 | Singapore | (65) 9056 1290 | kevin.s@u.nus.edu | kevinsiswandi.medium.com\n",
       "\n",
       "**LinkedIn:** www.linkedin.com/in/kevinsiswandi\n",
       "\n",
       "**Summary**\n",
       "\n",
       "Lead Data Scientist with 10+ years of experience leveraging statistical modeling and machine learning to solve complex business problems. Proven ability to drive revenue, optimize operations, and mitigate risks. Fluent in English, Mandarin Chinese (HSK 6), Bahasa Indonesia, and German (CEFR B2).\n",
       "\n",
       "**Skills**\n",
       "\n",
       "* Machine Learning (PySpark, Jupyter, Scikit-Learn, TensorFlow)\n",
       "* Data Science (SQL, Statistical Analysis, R, Python, Genomic Data Science, DESeq2)\n",
       "* Cloud Computing (GCP, Vertex AI, Cloud Build)\n",
       "* System Administration (Linux, Git, Shell Script)\n",
       "\n",
       "**Professional Experience**\n",
       "\n",
       "**Digital Place Ventures**, Singapore | Lead R&D Architect | May 2023 - Present\n",
       "\n",
       "* Led the development and implementation of an inventory optimization system that reduced out-of-stock rate by 99%, resulting in increased sales and revenue.\n",
       "* Collaborated with stakeholders and IT to improve data integration, resulting in 4x faster data processing time.\n",
       "* Built a time-series forecasting model that accurately predicted sales for over 500 retail stores.\n",
       "* Implemented a chatbot using LLM techniques and RAG for a private university client.\n",
       "* Developed CI/CD/CT capability using Cloud Build and Vertex AI in GCP.\n",
       "\n",
       "**DataSpark (part of SingTel Group)**, Singapore | Senior Data Scientist | Oct 2021 - Apr 2023\n",
       "\n",
       "* Developed an end-to-end solution to predict human mobility in Singapore and Australia with 80% accuracy using Telco data.\n",
       "* Collaborated with researchers from a top Singapore university on data-driven transport models.\n",
       "\n",
       "**Universitätsklinikum (University Medical Center) Freiburg**, Germany | Statistician | Oct 2020 - Sep 2021\n",
       "\n",
       "* Applied data science and machine learning techniques for medical research.\n",
       "\n",
       "**BioQuant**, Heidelberg (Germany) | Graduate Student Researcher | Jun 2019 - Sep 2020\n",
       "\n",
       "* Developed novel methods for predicting biochemical system dynamics from time-series multi-omics data.\n",
       "* Prepared teaching materials for a systems biology course on machine learning.\n",
       "\n",
       "**NCS (part of SingTel Group)**, Singapore | Data Scientist | Jan 2016 - July 2017\n",
       "\n",
       "* Implemented high-performance production analytics systems for large clients.\n",
       "* Designed, developed, and deployed in-house data products.\n",
       "\n",
       "**A*STAR Computational Resource Center (ACRC)**, Singapore | HPC Software Analyst | Nov 2013 - Dec 2015\n",
       "\n",
       "* Managed one of Singapore's most powerful HPC systems and Linux clusters.\n",
       "* Promoted supercomputing education and mentored Singapore teams for HPC competitions.\n",
       "\n",
       "**Education**\n",
       "\n",
       "**Ruprecht-Karl University of Heidelberg**, Heidelberg, Germany | MSc. Scientific Computing | 2018 - 2020\n",
       "\n",
       "**National University of Singapore**, Singapore | BSc. (Hons) in Physics | 2009 - 2013\n",
       "* Double minor in Economics and Nanoscience\n",
       "* GPA: 4.38/5.0\n",
       "\n",
       "**Imperial College London**, London, United Kingdom | Exchange Student, Materials Science | 2012\n",
       "\n",
       "**SMA Sutomo 1**, Medan, North Sumatra, Indonesia | 2006 - 2009\n",
       "\n",
       "* Bronze medal in Physics at the 2007 National Science Olympiad\n",
       "\n",
       "**Presentations and Talks**\n",
       "\n",
       "* Workshop Facilitator/Instructor, Faculty of Medicine, Gadjah Mada University (Indonesia), Oct 2023: \"Data Science for Biomedical Research in R\"\n",
       "* Workshop Facilitator/Instructor, Faculty of Medicine, Gadjah Mada University (Indonesia), April 2023: \"Introduction to the R Programming Language for Biomedical Research\"\n",
       "* Contributed Talk, Statistical Machine Learning, Biometrisches-Kolloquium 2021 (Germany), March 2021: \"A Machine Learning Approach to Empirical Dynamic Modeling for Biochemical Systems\"\n",
       "* Symposium, BioQuant, Heidelberg (Germany), April 2020: \"Predicting the dynamics of biochemical systems from time-series multi-omics data\"\n",
       "\n",
       "**Other Information**\n",
       "\n",
       "* GitHub: https://github.com/physicist91\n",
       "* Kaggle: https://www.kaggle.com/kevins\n",
       "* Bronze medal in Santander Value Prediction Competition (2018)\n",
       "* Bronze medal in TalkingData Challenge (2016)"
      ],
      "text/plain": [
       "<IPython.core.display.Markdown object>"
      ]
     },
     "metadata": {},
     "output_type": "display_data"
    }
   ],
   "source": [
    "from IPython.display import display, Markdown\n",
    "display(Markdown(result))"
   ]
  },
  {
   "cell_type": "code",
   "execution_count": 38,
   "metadata": {},
   "outputs": [],
   "source": [
    "prompt = ChatPromptTemplate.from_template(\"Make a personalized cover letter with the following information {info},\\\n",
    "                                           to apply to a job with a description{job_summ},\\\n",
    "                                           highlighting relevant information.\\\n",
    "                                           Please stay truthful to the given information, and do not make up numbers.\")\n",
    "output_parser = StrOutputParser()\n",
    "\n",
    "chain = prompt | model | output_parser\n",
    "\n",
    "result = chain.invoke({\"job_summ\": job_summ, \"info\": resume_info})"
   ]
  },
  {
   "cell_type": "code",
   "execution_count": 39,
   "metadata": {},
   "outputs": [
    {
     "data": {
      "text/markdown": [
       "Dear [Hiring Manager name],\n",
       "\n",
       "I am writing to express my interest in the Sales Engineer position at Snowflake. With my extensive technical background in data science and analytics, combined with my strong presentation and customer-facing skills, I am confident that I can effectively demonstrate the value of Snowflake's data platform to your clients.\n",
       "\n",
       "Throughout my career, I have held various roles that have honed my technical expertise in data management and analytics. As a Lead R&D Architect at Digital Place Ventures, I led the implementation of an inventory optimization system based on machine learning, which significantly improved sales and revenue for our clients. Additionally, as a Senior Data Scientist at DataSpark, I developed an end-to-end solution that predicts human movement patterns with 80% accuracy using Telco data.\n",
       "\n",
       "My understanding of the data stack and workflow, coupled with my proficiency in SQL and Python, enables me to effectively communicate complex technical concepts to both technical and executive audiences. I am also well-versed in large-scale database technology, having managed one of Singapore's most powerful HPC systems and Linux clusters at A*STAR Computational Resource Center.\n",
       "\n",
       "Furthermore, my experience as a Data Scientist at NCS has equipped me with a strong understanding of in-house data products and high-performance production analytics systems. This knowledge will be invaluable in my role at Snowflake, as I can leverage it to provide tailored solutions that meet the specific needs of your clients.\n",
       "\n",
       "I am particularly interested in Snowflake's commitment to innovation in the data analytics space. My passion for data science and AI, combined with my proven track record of success in enterprise software sales, makes me an ideal candidate for this role. I am eager to contribute my skills and expertise to Snowflake's ongoing success.\n",
       "\n",
       "Thank you for your time and consideration. I look forward to the opportunity to discuss my qualifications further and demonstrate how my experience can benefit Snowflake and its clients.\n",
       "\n",
       "Sincerely,\n",
       "Kevin Siswandi"
      ],
      "text/plain": [
       "<IPython.core.display.Markdown object>"
      ]
     },
     "metadata": {},
     "output_type": "display_data"
    }
   ],
   "source": [
    "display(Markdown(result))"
   ]
  },
  {
   "cell_type": "code",
   "execution_count": 44,
   "metadata": {},
   "outputs": [],
   "source": [
    "prompt = ChatPromptTemplate.from_template(\"As an expert hiring manager, revise and improve a cover letter as\\\n",
    "                                          follow {cover_letter}. Please stay truthful and do not invent new\\\n",
    "                                          facts, names or numbers.\")\n",
    "output_parser = StrOutputParser()\n",
    "\n",
    "chain = prompt | model | output_parser\n",
    "\n",
    "result = chain.invoke({\"cover_letter\": result})"
   ]
  },
  {
   "cell_type": "code",
   "execution_count": 45,
   "metadata": {},
   "outputs": [
    {
     "data": {
      "text/markdown": [
       "**Kevin Siswandi**\n",
       "吴建和\n",
       "Singapore\n",
       "(65) 9056 1290\n",
       "kevin.s@u.nus.edu\n",
       "kevinsiswandi.medium.com\n",
       "www.linkedin.com/in/kevinsiswandi\n",
       "\n",
       "**Summary**\n",
       "\n",
       "Highly accomplished Lead Data Scientist with over a decade of experience in data and advanced analytics. Proven track record of leveraging statistical modeling and machine learning to solve complex business challenges. Expertise in designing and implementing data-driven solutions that enhance revenue, optimize operations, and mitigate risks.\n",
       "\n",
       "**Technical Skills**\n",
       "\n",
       "* Programming Languages: Python, R, SQL, Shell Script, Jupyter\n",
       "* Data Science Libraries: Scikit-Learn, TensorFlow, DESeq2\n",
       "* Cloud Platforms: GCP (Cloud Build, Vertex AI)\n",
       "* Data Processing: PySpark, Linux, Git\n",
       "* Statistics: Statistical Analysis, Deep Learning\n",
       "* Other: Genomic Data Science, HPC Software Management\n",
       "\n",
       "**Professional Experience**\n",
       "\n",
       "**Lead R&D Architect**\n",
       "Digital Place Ventures, Singapore\n",
       "May 2023 - Present\n",
       "\n",
       "* Led the development and deployment of an inventory optimization system using machine learning, reducing out-of-stock rates below 1% and significantly improving sales revenue.\n",
       "* Designed and implemented a data integration process, collaborating with business stakeholders and IT teams to achieve a 4x speedup in data processing time.\n",
       "* Built a time-series forecasting model to predict sales of items at over 500 retail stores with an accuracy of 80%.\n",
       "* Developed a chatbot incorporating LLM techniques and RAG for a private university client.\n",
       "* Established CI/CD/CT capability using Cloud Build and Vertex AI in GCP, streamlining software development and deployment processes.\n",
       "\n",
       "**Senior Data Scientist**\n",
       "DataSpark (part of SingTel Group), Singapore\n",
       "Oct 2021 - Apr 2023\n",
       "\n",
       "* Developed an end-to-end solution to predict human movement patterns in Singapore and Australia using Telco data, achieving an accuracy of 80%.\n",
       "* Collaborated with researchers from the National University of Singapore to research and develop data-driven transport models.\n",
       "\n",
       "**Statistician**\n",
       "Universitätsklinikum (University Medical Center) Freiburg, Germany\n",
       "Oct 2020 - Sep 2021\n",
       "\n",
       "* Applied advanced data science and machine learning techniques to medical applications, contributing to innovative research and healthcare solutions.\n",
       "\n",
       "**Graduate Student Researcher**\n",
       "BioQuant, Heidelberg, Germany\n",
       "Jun 2019 - Sep 2020\n",
       "\n",
       "* Developed novel methods for predicting the dynamics of biochemical systems from time-series multi-omics data, resulting in a significant contribution to the field of computational biology.\n",
       "\n",
       "**Data Scientist**\n",
       "NCS (part of SingTel Group), Singapore\n",
       "Jan 2016 - Jul 2017\n",
       "\n",
       "* Designed, implemented, and deployed high-performance production analytics systems.\n",
       "* Developed and delivered innovative data products that met business needs.\n",
       "\n",
       "**HPC Software Analyst**\n",
       "A*STAR Computational Resource Center (ACRC), Singapore\n",
       "Nov 2013 - Dec 2015\n",
       "\n",
       "* Managed Singapore's most powerful HPC systems and Linux clusters, ensuring optimal performance and efficiency.\n",
       "* Promoted supercomputing education and mentored Singapore teams for HPC competitions, fostering a vibrant research ecosystem.\n",
       "\n",
       "**Education**\n",
       "\n",
       "**Master of Science in Scientific Computing**\n",
       "Ruprecht-Karl University of Heidelberg, Heidelberg, Germany\n",
       "2018 - 2020\n",
       "\n",
       "* Thesis: Predicting the dynamics of biochemical systems from time-series multi-omics data.\n",
       "* Coursework included Deep Learning for Computer Vision, providing a solid foundation in advanced machine learning techniques.\n",
       "\n",
       "**Bachelor of Science (Hons) in Physics**\n",
       "National University of Singapore, Singapore\n",
       "2009 - 2013\n",
       "\n",
       "* Double minor in Economics and Nanoscience, broadening my perspective and skills.\n",
       "* GPA: 4.38/5.0, demonstrating academic excellence and a strong foundation in analytical thinking.\n",
       "* Thesis: An optimized numerical method for solving correlated quantum systems, showcasing my research capabilities and problem-solving skills.\n",
       "\n",
       "**Exchange Student, Materials Science**\n",
       "Imperial College London, London, United Kingdom\n",
       "2012\n",
       "\n",
       "* Project: Transmission Electron Microscopy of novel nitrides for energy-efficient devices, providing valuable experience in experimental research and microscopy techniques.\n",
       "\n",
       "**Other Information**\n",
       "\n",
       "* GitHub: https://github.com/physicist91\n",
       "* Kaggle: https://www.kaggle.com/kevins\n",
       "* Bronze Medal: Santander Value Prediction Competition (2018)\n",
       "* Bronze Medal: TalkingData Challenge (2016)\n",
       "\n",
       "**Languages**\n",
       "\n",
       "* English: Fluent\n",
       "* Mandarin Chinese: HSK 6\n",
       "* Bahasa Indonesia: Native\n",
       "* German: CEFR B2"
      ],
      "text/plain": [
       "<IPython.core.display.Markdown object>"
      ]
     },
     "metadata": {},
     "output_type": "display_data"
    }
   ],
   "source": [
    "display(Markdown(result))"
   ]
  },
  {
   "cell_type": "code",
   "execution_count": null,
   "metadata": {},
   "outputs": [],
   "source": []
  }
 ],
 "metadata": {
  "kernelspec": {
   "display_name": "Python 3",
   "language": "python",
   "name": "python3"
  },
  "language_info": {
   "codemirror_mode": {
    "name": "ipython",
    "version": 3
   },
   "file_extension": ".py",
   "mimetype": "text/x-python",
   "name": "python",
   "nbconvert_exporter": "python",
   "pygments_lexer": "ipython3",
   "version": "3.12.2"
  }
 },
 "nbformat": 4,
 "nbformat_minor": 2
}
