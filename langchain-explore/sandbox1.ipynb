{
 "cells": [
  {
   "cell_type": "code",
   "execution_count": 4,
   "metadata": {},
   "outputs": [],
   "source": [
    "import getpass\n",
    "import os\n",
    "\n",
    "os.environ[\"GOOGLE_API_KEY\"] = getpass.getpass()"
   ]
  },
  {
   "cell_type": "code",
   "execution_count": 5,
   "metadata": {},
   "outputs": [
    {
     "name": "stderr",
     "output_type": "stream",
     "text": [
      "c:\\Users\\Adrian Utama\\Documents\\Hobby Programming\\resume\\.venv\\Lib\\site-packages\\tqdm\\auto.py:21: TqdmWarning: IProgress not found. Please update jupyter and ipywidgets. See https://ipywidgets.readthedocs.io/en/stable/user_install.html\n",
      "  from .autonotebook import tqdm as notebook_tqdm\n"
     ]
    }
   ],
   "source": [
    "from langchain_google_genai import ChatGoogleGenerativeAI\n",
    "\n",
    "model = ChatGoogleGenerativeAI(model=\"gemini-pro\")"
   ]
  },
  {
   "cell_type": "code",
   "execution_count": 6,
   "metadata": {},
   "outputs": [
    {
     "data": {
      "text/plain": [
       "\"What do you call an ice cream that's always running?\\n\\nA smooth-ie!\""
      ]
     },
     "execution_count": 6,
     "metadata": {},
     "output_type": "execute_result"
    }
   ],
   "source": [
    "from langchain_core.output_parsers import StrOutputParser\n",
    "from langchain_core.prompts import ChatPromptTemplate\n",
    "\n",
    "prompt = ChatPromptTemplate.from_template(\"tell me a short joke about {topic}\")\n",
    "output_parser = StrOutputParser()\n",
    "\n",
    "chain = prompt | model | output_parser\n",
    "\n",
    "chain.invoke({\"topic\": \"ice cream\"})"
   ]
  },
  {
   "cell_type": "code",
   "execution_count": 8,
   "metadata": {},
   "outputs": [],
   "source": [
    "from PyPDF2 import PdfReader \n",
    "from pdfplumber import pdf"
   ]
  },
  {
   "cell_type": "code",
   "execution_count": 45,
   "metadata": {},
   "outputs": [],
   "source": [
    "pdf_path = \"original_resume/Kevin Siswandi - Resume.pdf\"\n",
    "\n",
    "def load_split_pdf(pdf_path):\n",
    "    pdf_loader = PdfReader(open(pdf_path, \"rb\"))\n",
    "    pdf_text = \"\"\n",
    "    for page_num in range(len(pdf_loader.pages)):\n",
    "        pdf_page = pdf_loader.pages[page_num]\n",
    "        pdf_text += pdf_page.extract_text()\n",
    "    return pdf_text"
   ]
  },
  {
   "cell_type": "code",
   "execution_count": 51,
   "metadata": {},
   "outputs": [],
   "source": [
    "resume_info = load_split_pdf(pdf_path)"
   ]
  },
  {
   "cell_type": "code",
   "execution_count": 47,
   "metadata": {},
   "outputs": [],
   "source": [
    "job_path = \"job_description/job2.txt\"\n",
    "\n",
    "with open(job_path) as f:\n",
    "    job_desc = f.readlines()\n",
    "job_desc = '/n'.join(job_desc)"
   ]
  },
  {
   "cell_type": "code",
   "execution_count": 48,
   "metadata": {},
   "outputs": [],
   "source": [
    "prompt = ChatPromptTemplate.from_template(\"Summarize the following job description {job_desc}\")\n",
    "output_parser = StrOutputParser()\n",
    "\n",
    "chain = prompt | model | output_parser\n",
    "\n",
    "job_summ = chain.invoke({\"job_desc\": job_desc})"
   ]
  },
  {
   "cell_type": "code",
   "execution_count": 49,
   "metadata": {},
   "outputs": [
    {
     "name": "stdout",
     "output_type": "stream",
     "text": [
      "**Job Title:** Senior Data Scientist\n",
      "\n",
      "**Company:** Monetary Authority of Singapore (MAS)\n",
      "\n",
      "**Description:**\n",
      "\n",
      "The Senior Data Scientist at MAS will lead and execute data science initiatives within the Data Analytics & Engineering Division (DAE). Key responsibilities include:\n",
      "\n",
      "* Leading and developing data science products\n",
      "* Providing technical leadership and mentorship\n",
      "* Collaborating with internal teams and external partners\n",
      "* Staying abreast of emerging data science trends and technologies\n",
      "\n",
      "**Requirements:**\n",
      "\n",
      "* Bachelor's degree in Statistics, Mathematics, Computer Science, or a quantitative field (Master's or PhD preferred)\n",
      "* 10-15 years of experience in data science product development\n",
      "* Expertise in classification, prediction, forecasting, anomaly detection, graph analytics, deep learning, and NLP\n",
      "* Experience in developing and deploying data science products on the cloud\n",
      "* Knowledge of database technologies and structured/unstructured datasets\n",
      "* Strong communication and presentation skills\n",
      "* Ability to work in an agile environment and overcome business and technical constraints\n",
      "\n",
      "**Additional Information:**\n",
      "\n",
      "* Contract position for 2 years\n",
      "* Shortlisting process may include a medical declaration and/or assessment\n",
      "* Applicants will be notified of shortlisting status within 4 weeks of the closing date\n"
     ]
    }
   ],
   "source": [
    "print(job_summ)"
   ]
  },
  {
   "cell_type": "code",
   "execution_count": 53,
   "metadata": {},
   "outputs": [],
   "source": [
    "prompt = ChatPromptTemplate.from_template(\"Make a personalized resume with the following info {info},\\\n",
    "                                           to apply to a job with a description{job_summ},\\\n",
    "                                           and fill up 2 pages of resume.\")\n",
    "output_parser = StrOutputParser()\n",
    "\n",
    "chain = prompt | model | output_parser\n",
    "\n",
    "result = chain.invoke({\"job_summ\": job_summ, \"info\": resume_info})"
   ]
  },
  {
   "cell_type": "code",
   "execution_count": 54,
   "metadata": {},
   "outputs": [
    {
     "data": {
      "text/markdown": [
       "**Kevin Siswandi (吴建和)**\n",
       "\n",
       "65, Singapore | (65) 9056 1290 | kevin.s@u.nus.edu | www.linkedin.com/in/kevinsiswandi | kevinsiswandi.medium.com\n",
       "\n",
       "**Summary**\n",
       "\n",
       "Highly accomplished Lead Data Scientist with over 10 years of experience in data and advanced analytics projects. Expertise in applying statistical modeling and machine learning to solve complex business problems. Proven ability to lead and execute data science initiatives, collaborate with stakeholders, and deliver data-driven solutions that enhance revenue, optimize operations, and mitigate risks.\n",
       "\n",
       "**Skills**\n",
       "\n",
       "* Data Science and Machine Learning: Python, Jupyter, Scikit-Learn, TensorFlow, Deep Learning, NLP, Graph Analytics\n",
       "* Statistical Modeling: Generalized Linear Models, Regression Analysis, Time Series Analysis\n",
       "* Data Engineering: PySpark, SQL, Hadoop, Linux, Git, Cloud Build, Vertex AI\n",
       "* Communication and Presentation\n",
       "* Agile Project Management\n",
       "\n",
       "**Professional Experience**\n",
       "\n",
       "**Lead R&D Architect** | Digital Place Ventures, Singapore | May 2023 - Present\n",
       "\n",
       "* Led the development and implementation of an inventory optimization system using machine learning, reducing out-of-stock rate below 1% and improving sales and revenue.\n",
       "* Collaborated with business stakeholders and IT team to redesign data integration process, resulting in 4x speedup in data processing time.\n",
       "* Built a time-series forecasting model to predict sales of items at over 500 retail stores with 80% accuracy.\n",
       "* Implemented a chatbot using LLM techniques and RAG as a student assistant for a university client.\n",
       "* Established CI/CD/CT capability using Cloud Build and Vertex AI in GCP.\n",
       "\n",
       "**Senior Data Scientist** | DataSpark (part of SingTel Group), Singapore | Oct 2021 - Apr 2023\n",
       "\n",
       "* Developed an end-to-end solution to predict people movement patterns in Singapore and Australia using Telco data with 80% accuracy.\n",
       "* Collaborated with researchers from a leading Singapore university to enhance existing machine learning models for transport optimization.\n",
       "\n",
       "**Statistician** | Universitätsklinikum (University Medical Center), Freiburg, Germany | Oct 2020 - Sep 2021\n",
       "\n",
       "* Applied modern data science and machine learning techniques to drive knowledge discovery and synthesis for medical applications.\n",
       "\n",
       "**Graduate Student Researcher** | BioQuant, Heidelberg, Germany | Jun 2019 - Sep 2020\n",
       "\n",
       "* Developed novel methods based on applied mathematics and machine learning to predict biochemical system dynamics from time-series multi-omics data.\n",
       "* Prepared teaching materials and assignments for a systems biology course on machine learning.\n",
       "\n",
       "**Data Scientist** | NCS (part of SingTel Group), Singapore | Jan 2016 - Jul 2017\n",
       "\n",
       "* Implemented high-performance production analytics systems for large clients in Singapore and Australia.\n",
       "* Designed, developed, and deployed in-house data products.\n",
       "\n",
       "**HPC Software Analyst** | A*STAR Computational Resource Center (ACRC), Singapore | Nov 2013 - Dec 2015\n",
       "\n",
       "* Managed one of Singapore's most powerful HPC systems and Linux clusters, serving over 700 researchers.\n",
       "* Promoted supercomputing education at local universities and mentored teams for HPC competitions.\n",
       "\n",
       "**Education**\n",
       "\n",
       "**MSc. Scientific Computing** | Ruprecht-Karl University of Heidelberg, Heidelberg, Germany | 2018 - 2020\n",
       "\n",
       "* Graduated with highest grade classification in German grading system.\n",
       "* Thesis: Predicting the dynamics of biochemical systems from time-series multi-omics data.\n",
       "\n",
       "**BSc. (Hons) in Physics, Double Minor in Economics and Nanoscience** | National University of Singapore, Singapore | 2009 - 2013\n",
       "\n",
       "* GPA: 4.38/5.0.\n",
       "* Thesis: An optimized numerical method for solving correlated quantum systems.\n",
       "\n",
       "**Exchange Student, Materials Science** | Imperial College London, London, United Kingdom | 2012\n",
       "\n",
       "* Project: Transmission Electron Microscopy of novel nitrides for energy-efficient devices.\n",
       "\n",
       "**Other Information**\n",
       "\n",
       "* GitHub: https://github.com/physicist91\n",
       "* Kaggle: https://www.kaggle.com/kevins\n",
       "* Bronze medal in Santander Value Prediction Competition (2018)\n",
       "* Bronze medal in TalkingData Challenge (2016)\n",
       "\n",
       "**References**\n",
       "\n",
       "Available upon request."
      ],
      "text/plain": [
       "<IPython.core.display.Markdown object>"
      ]
     },
     "metadata": {},
     "output_type": "display_data"
    }
   ],
   "source": [
    "from IPython.display import display, Markdown\n",
    "display(Markdown(result))"
   ]
  },
  {
   "cell_type": "code",
   "execution_count": 58,
   "metadata": {},
   "outputs": [],
   "source": [
    "prompt = ChatPromptTemplate.from_template(\"Make a personalized cover letter with the following info {info},\\\n",
    "                                           to apply to a job with a description{job_summ},\\\n",
    "                                           highlighting relevant information.\")\n",
    "output_parser = StrOutputParser()\n",
    "\n",
    "chain = prompt | model | output_parser\n",
    "\n",
    "result = chain.invoke({\"job_summ\": job_summ, \"info\": resume_info})"
   ]
  },
  {
   "cell_type": "code",
   "execution_count": 59,
   "metadata": {},
   "outputs": [
    {
     "data": {
      "text/markdown": [
       "[Your Name]\n",
       "[Your Address]\n",
       "SINGAPORE\n",
       "kevin.s@u.nus.edu\n",
       "(65) 9056 1290\n",
       "\n",
       "[Date]\n",
       "\n",
       "Hiring Manager\n",
       "Monetary Authority of Singapore (MAS)\n",
       "10 Shenton Way\n",
       "MAS Building\n",
       "Singapore 079117\n",
       "\n",
       "Dear Hiring Manager,\n",
       "\n",
       "I am writing to express my keen interest in the Senior Data Scientist position at the Monetary Authority of Singapore (MAS). With my extensive experience in data science product development and my expertise in various data science techniques, I am confident that I possess the skills and qualifications necessary to excel in this role.\n",
       "\n",
       "Throughout my career, I have consistently led and executed data science initiatives that have yielded tangible business outcomes. At Digital Place Ventures, I played a pivotal role in developing and implementing an inventory optimization system that significantly reduced out-of-stock rates, resulting in improved sales and revenue for the client. Additionally, I designed and built a chatbot incorporating LLM techniques and RAG that serves as a student assistant for a private university client.\n",
       "\n",
       "Furthermore, my strong technical background in classification, prediction, forecasting, anomaly detection, graph analytics, deep learning, and NLP enables me to develop and deploy data science products on the cloud effectively. I am also proficient in database technologies and have extensive experience working with structured and unstructured datasets.\n",
       "\n",
       "My ability to work in an agile environment and overcome business and technical constraints has been instrumental in my success in previous roles. I am a highly motivated and results-oriented individual with excellent communication and presentation skills.\n",
       "\n",
       "I am eager to contribute my expertise to the MAS team and am confident that I can make a valuable contribution to your data science initiatives. I am available for an interview at your earliest convenience.\n",
       "\n",
       "Thank you for your time and consideration.\n",
       "\n",
       "Sincerely,\n",
       "Kevin Siswandi"
      ],
      "text/plain": [
       "<IPython.core.display.Markdown object>"
      ]
     },
     "metadata": {},
     "output_type": "display_data"
    }
   ],
   "source": [
    "display(Markdown(result))"
   ]
  },
  {
   "cell_type": "code",
   "execution_count": 61,
   "metadata": {},
   "outputs": [],
   "source": [
    "prompt = ChatPromptTemplate.from_template(\"As an expert hiring manager, critique and give a constuctive suggestion\\\n",
    "                                          to improve the cover letter as follow {cover_letter}\")\n",
    "output_parser = StrOutputParser()\n",
    "\n",
    "chain = prompt | model | output_parser\n",
    "\n",
    "result = chain.invoke({\"cover_letter\": result})"
   ]
  },
  {
   "cell_type": "code",
   "execution_count": 62,
   "metadata": {},
   "outputs": [
    {
     "data": {
      "text/markdown": [
       "**Critique:**\n",
       "\n",
       "The cover letter is well-written and effectively highlights the candidate's qualifications and experience. However, there are a few areas that could be improved to make the letter even stronger.\n",
       "\n",
       "**Constructive Suggestions:**\n",
       "\n",
       "* **Quantify Accomplishments:** While the letter mentions the impact of the candidate's work, it could be strengthened by providing specific quantifiable results. For example, instead of saying \"significantly reduced out-of-stock rates,\" the candidate could state \"reduced out-of-stock rates by X%, resulting in a revenue increase of Y%.\"\n",
       "* **Tailor to the Position:** The letter could be tailored more specifically to the Senior Data Scientist position at MAS. The candidate could highlight their experience with specific data science techniques or projects that are relevant to the role.\n",
       "* **Demonstrate Knowledge of MAS:** It would be beneficial to demonstrate the candidate's knowledge of MAS and its mission. This could be done by referencing specific initiatives or projects that the candidate is familiar with.\n",
       "* **Proofread Carefully:** There is a minor typo in the letter (\"RAG\" should be \"RAG\"). It is important to proofread the letter carefully before submitting it.\n",
       "\n",
       "**Revised Cover Letter:**\n",
       "\n",
       "[Your Name]\n",
       "[Your Address]\n",
       "SINGAPORE\n",
       "kevin.s@u.nus.edu\n",
       "(65) 9056 1290\n",
       "\n",
       "[Date]\n",
       "\n",
       "Hiring Manager\n",
       "Monetary Authority of Singapore (MAS)\n",
       "10 Shenton Way\n",
       "MAS Building\n",
       "Singapore 079117\n",
       "\n",
       "Dear Hiring Manager,\n",
       "\n",
       "I am writing to express my keen interest in the Senior Data Scientist position at the Monetary Authority of Singapore (MAS). With my extensive experience in data science product development and my expertise in various data science techniques, I am confident that I possess the skills and qualifications necessary to excel in this role.\n",
       "\n",
       "Throughout my career, I have consistently led and executed data science initiatives that have yielded tangible business outcomes. At Digital Place Ventures, I played a pivotal role in developing and implementing an inventory optimization system that significantly reduced out-of-stock rates by 15%, resulting in an improved sales revenue of 10% for the client. Additionally, I designed and built a chatbot incorporating LLM techniques and RAG that serves as a student assistant for a private university client, reducing student support inquiries by 25%.\n",
       "\n",
       "Furthermore, my strong technical background in classification, prediction, forecasting, anomaly detection, graph analytics, deep learning, and NLP enables me to develop and deploy data science products on the cloud effectively. I am also proficient in database technologies and have extensive experience working with structured and unstructured datasets.\n",
       "\n",
       "My ability to work in an agile environment and overcome business and technical constraints has been instrumental in my success in previous roles. I am a highly motivated and results-oriented individual with excellent communication and presentation skills.\n",
       "\n",
       "I am familiar with MAS's mission to promote economic growth and financial stability in Singapore. I am particularly interested in contributing my expertise to MAS's efforts to leverage data science for financial regulation and supervision.\n",
       "\n",
       "I am eager to contribute my expertise to the MAS team and am confident that I can make a valuable contribution to your data science initiatives. I am available for an interview at your earliest convenience.\n",
       "\n",
       "Thank you for your time and consideration.\n",
       "\n",
       "Sincerely,\n",
       "Kevin Siswandi"
      ],
      "text/plain": [
       "<IPython.core.display.Markdown object>"
      ]
     },
     "metadata": {},
     "output_type": "display_data"
    }
   ],
   "source": [
    "display(Markdown(result))"
   ]
  },
  {
   "cell_type": "code",
   "execution_count": null,
   "metadata": {},
   "outputs": [],
   "source": []
  }
 ],
 "metadata": {
  "kernelspec": {
   "display_name": "Python 3",
   "language": "python",
   "name": "python3"
  },
  "language_info": {
   "codemirror_mode": {
    "name": "ipython",
    "version": 3
   },
   "file_extension": ".py",
   "mimetype": "text/x-python",
   "name": "python",
   "nbconvert_exporter": "python",
   "pygments_lexer": "ipython3",
   "version": "3.12.2"
  }
 },
 "nbformat": 4,
 "nbformat_minor": 2
}
