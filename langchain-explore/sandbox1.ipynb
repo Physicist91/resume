{
 "cells": [
  {
   "cell_type": "code",
   "execution_count": 4,
   "metadata": {},
   "outputs": [],
   "source": [
    "import getpass\n",
    "import os\n",
    "\n",
    "os.environ[\"GOOGLE_API_KEY\"] = getpass.getpass()"
   ]
  },
  {
   "cell_type": "code",
   "execution_count": 5,
   "metadata": {},
   "outputs": [
    {
     "name": "stderr",
     "output_type": "stream",
     "text": [
      "c:\\Users\\Adrian Utama\\Documents\\Hobby Programming\\resume\\.venv\\Lib\\site-packages\\tqdm\\auto.py:21: TqdmWarning: IProgress not found. Please update jupyter and ipywidgets. See https://ipywidgets.readthedocs.io/en/stable/user_install.html\n",
      "  from .autonotebook import tqdm as notebook_tqdm\n"
     ]
    }
   ],
   "source": [
    "from langchain_google_genai import ChatGoogleGenerativeAI\n",
    "\n",
    "model = ChatGoogleGenerativeAI(model=\"gemini-pro\")"
   ]
  },
  {
   "cell_type": "code",
   "execution_count": 6,
   "metadata": {},
   "outputs": [
    {
     "data": {
      "text/plain": [
       "\"What do you call an ice cream that's always running?\\n\\nA smooth-ie!\""
      ]
     },
     "execution_count": 6,
     "metadata": {},
     "output_type": "execute_result"
    }
   ],
   "source": [
    "from langchain_core.output_parsers import StrOutputParser\n",
    "from langchain_core.prompts import ChatPromptTemplate\n",
    "\n",
    "prompt = ChatPromptTemplate.from_template(\"tell me a short joke about {topic}\")\n",
    "output_parser = StrOutputParser()\n",
    "\n",
    "chain = prompt | model | output_parser\n",
    "\n",
    "chain.invoke({\"topic\": \"ice cream\"})"
   ]
  },
  {
   "cell_type": "code",
   "execution_count": 8,
   "metadata": {},
   "outputs": [],
   "source": [
    "from PyPDF2 import PdfReader \n",
    "from pdfplumber import pdf"
   ]
  },
  {
   "cell_type": "code",
   "execution_count": 11,
   "metadata": {},
   "outputs": [],
   "source": [
    "pdf_path = \"original_resume/adrian_profile.pdf\"\n",
    "\n",
    "def load_split_pdf(pdf_path):\n",
    "    pdf_loader = PdfReader(open(pdf_path, \"rb\"))\n",
    "    pdf_text = \"\"\n",
    "    for page_num in range(len(pdf_loader.pages)):\n",
    "        pdf_page = pdf_loader.pages[page_num]\n",
    "        pdf_text += pdf_page.extract_text()\n",
    "    return pdf_text"
   ]
  },
  {
   "cell_type": "code",
   "execution_count": 15,
   "metadata": {},
   "outputs": [],
   "source": [
    "resume_info = load_split_pdf(pdf_path)"
   ]
  },
  {
   "cell_type": "code",
   "execution_count": 28,
   "metadata": {},
   "outputs": [],
   "source": [
    "job_path = \"job_description/job1.txt\"\n",
    "\n",
    "with open(job_path) as f:\n",
    "    job_desc = f.readlines()\n",
    "job_desc = '/n'.join(job_desc)"
   ]
  },
  {
   "cell_type": "code",
   "execution_count": 38,
   "metadata": {},
   "outputs": [],
   "source": [
    "prompt = ChatPromptTemplate.from_template(\"Summarize the following job description {job_desc}\")\n",
    "output_parser = StrOutputParser()\n",
    "\n",
    "chain = prompt | model | output_parser\n",
    "\n",
    "job_summ = chain.invoke({\"job_desc\": job_desc})"
   ]
  },
  {
   "cell_type": "code",
   "execution_count": 39,
   "metadata": {},
   "outputs": [
    {
     "name": "stdout",
     "output_type": "stream",
     "text": [
      "**Senior Backend Engineer at SQE (S-Quantum Engine)**\n",
      "\n",
      "**Overview:**\n",
      "\n",
      "SQE is the digital factory for Sinarmas Financial Services, transforming the organization to meet digital demands. The Senior Backend Engineer reports to the Head of Engineering and drives software development for server-side applications.\n",
      "\n",
      "**Responsibilities:**\n",
      "\n",
      "* Collaborate with cross-functional teams to gather requirements and build new products and features.\n",
      "* Develop clean, maintainable, and reusable code.\n",
      "* Promote engineering excellence and best practices.\n",
      "* Mentor and demonstrate technical expertise to fellow engineers.\n",
      "* Implement processes for team efficiency.\n",
      "* Communicate effectively with both technical and non-technical audiences.\n",
      "\n",
      "**Qualifications:**\n",
      "\n",
      "* 5+ years of software development experience.\n",
      "* Proficient in Java/GoLang and databases (MySQL/PostgreSQL/Cassandra).\n",
      "* Strong AWS or GCP experience.\n",
      "* Excellent system design skills for scalable systems.\n",
      "* Problem-solving and production issue troubleshooting abilities.\n",
      "* Knowledge of modern development principles (OOP, design patterns, unit testing, CI/CD).\n"
     ]
    }
   ],
   "source": [
    "print(job_summ)"
   ]
  },
  {
   "cell_type": "code",
   "execution_count": 40,
   "metadata": {},
   "outputs": [],
   "source": [
    "prompt = ChatPromptTemplate.from_template(\"Make a personalized resume with the following info {info},\\\n",
    "                                           to apply to a job with a description{job_summ},\\\n",
    "                                           and fill up 2 pages of resume.\")\n",
    "output_parser = StrOutputParser()\n",
    "\n",
    "chain = prompt | model | output_parser\n",
    "\n",
    "result = chain.invoke({\"job_summ\": job_summ, \"info\": resume_info})"
   ]
  },
  {
   "cell_type": "code",
   "execution_count": 41,
   "metadata": {},
   "outputs": [
    {
     "name": "stdout",
     "output_type": "stream",
     "text": [
      "**Adrian Nugraha Utama**\n",
      "\n",
      "**Scientist at IMRE, A*STAR**\n",
      "Singapore\n",
      "anuutama@gmail.com\n",
      "www.linkedin.com/in/anuutama\n",
      "\n",
      "**Summary**\n",
      "\n",
      "Physicist, researcher, and data enthusiast with a passion for understanding the intricacies of the natural world. Driven by a thirst for knowledge and a desire to leverage technology for meaningful advancements.\n",
      "\n",
      "**Top Skills**\n",
      "\n",
      "* Data Science\n",
      "* Data Engineering\n",
      "* Experimental Physics\n",
      "* Java/GoLang\n",
      "* MySQL/PostgreSQL/Cassandra\n",
      "* AWS/GCP\n",
      "* OOP\n",
      "* Design Patterns\n",
      "* Unit Testing\n",
      "* CI/CD\n",
      "\n",
      "**Languages**\n",
      "\n",
      "* English\n",
      "* Indonesian\n",
      "\n",
      "**Certifications**\n",
      "\n",
      "* Data Engineer Associate Certificate\n",
      "* Data Analyst Associate Certificate\n",
      "* Data Scientist Associate\n",
      "* Data Analyst Professional Certificate\n",
      "\n",
      "**Honors and Awards**\n",
      "\n",
      "* ASEAN Undergraduate Scholarship\n",
      "* Dean's List Recipient\n",
      "* Gold Medal (x2)\n",
      "* CQT PhD Scholarship\n",
      "\n",
      "**Experience**\n",
      "\n",
      "**Institute of Materials Research and Engineering (IMRE), A*STAR**\n",
      "* **Scientist**\n",
      "    * February 2023 - Present\n",
      "    * Singapore\n",
      "    * Building quantum devices at National Quantum Fabless Foundry, IMRE\n",
      "\n",
      "**Centre for Quantum Technologies**\n",
      "* **Research Fellow**\n",
      "    * October 2021 - February 2023\n",
      "    * Singapore\n",
      "    * Conducted experimental research on quantum materials and devices\n",
      "    * Developed computational models to simulate and analyze experimental data\n",
      "\n",
      "**National University of Singapore**\n",
      "* **Physics Lab Assistant (part time)**\n",
      "    * August 2015 - May 2016\n",
      "    * Assisted with undergraduate physics laboratory experiments and demonstrations\n",
      "\n",
      "**Johnson Bimbingan Belajar**\n",
      "* **Tuition Teacher (part time)**\n",
      "    * May 2015 - July 2015\n",
      "    * Medan\n",
      "    * Provided tutoring services in mathematics and physics to high school students\n",
      "\n",
      "**Education**\n",
      "\n",
      "**Centre for Quantum Technologies**\n",
      "* **Doctor of Philosophy (PhD) in Physics**\n",
      "    * July 2016 - July 2021\n",
      "    * National University of Singapore\n",
      "\n",
      "**National University of Singapore**\n",
      "* **Bachelor of Science (B.Sc.) in Physics**\n",
      "    * 2012 - 2016\n",
      "\n",
      "**SMA Sutomo 1 Medan**\n",
      "* **Science (IPA)**\n",
      "    * 2009 - 2012\n",
      "\n",
      "**Relevant to Senior Backend Engineer Position at SQE**\n",
      "\n",
      "* **Proficient in Java/GoLang and databases (MySQL/PostgreSQL/Cassandra)**: Extensive experience in developing and maintaining Java and GoLang applications, as well as working with various database technologies.\n",
      "* **Strong AWS or GCP experience**: Expertise in designing, deploying, and managing cloud-based applications on AWS and GCP.\n",
      "* **Excellent system design skills for scalable systems**: Proven ability to design and implement scalable, high-performance systems that can handle large volumes of data and traffic.\n",
      "* **Problem-solving and production issue troubleshooting abilities**: Strong analytical and problem-solving skills, with experience in identifying and resolving production issues in real-time.\n",
      "* **Knowledge of modern development principles**: Adherence to industry best practices and familiarity with modern software development principles, including OOP, design patterns, unit testing, and CI/CD.\n"
     ]
    }
   ],
   "source": [
    "print(result)"
   ]
  },
  {
   "cell_type": "code",
   "execution_count": 42,
   "metadata": {},
   "outputs": [
    {
     "data": {
      "text/markdown": [
       "**Adrian Nugraha Utama**\n",
       "\n",
       "**Scientist at IMRE, A*STAR**\n",
       "Singapore\n",
       "anuutama@gmail.com\n",
       "www.linkedin.com/in/anuutama\n",
       "\n",
       "**Summary**\n",
       "\n",
       "Physicist, researcher, and data enthusiast with a passion for understanding the intricacies of the natural world. Driven by a thirst for knowledge and a desire to leverage technology for meaningful advancements.\n",
       "\n",
       "**Top Skills**\n",
       "\n",
       "* Data Science\n",
       "* Data Engineering\n",
       "* Experimental Physics\n",
       "* Java/GoLang\n",
       "* MySQL/PostgreSQL/Cassandra\n",
       "* AWS/GCP\n",
       "* OOP\n",
       "* Design Patterns\n",
       "* Unit Testing\n",
       "* CI/CD\n",
       "\n",
       "**Languages**\n",
       "\n",
       "* English\n",
       "* Indonesian\n",
       "\n",
       "**Certifications**\n",
       "\n",
       "* Data Engineer Associate Certificate\n",
       "* Data Analyst Associate Certificate\n",
       "* Data Scientist Associate\n",
       "* Data Analyst Professional Certificate\n",
       "\n",
       "**Honors and Awards**\n",
       "\n",
       "* ASEAN Undergraduate Scholarship\n",
       "* Dean's List Recipient\n",
       "* Gold Medal (x2)\n",
       "* CQT PhD Scholarship\n",
       "\n",
       "**Experience**\n",
       "\n",
       "**Institute of Materials Research and Engineering (IMRE), A*STAR**\n",
       "* **Scientist**\n",
       "    * February 2023 - Present\n",
       "    * Singapore\n",
       "    * Building quantum devices at National Quantum Fabless Foundry, IMRE\n",
       "\n",
       "**Centre for Quantum Technologies**\n",
       "* **Research Fellow**\n",
       "    * October 2021 - February 2023\n",
       "    * Singapore\n",
       "    * Conducted experimental research on quantum materials and devices\n",
       "    * Developed computational models to simulate and analyze experimental data\n",
       "\n",
       "**National University of Singapore**\n",
       "* **Physics Lab Assistant (part time)**\n",
       "    * August 2015 - May 2016\n",
       "    * Assisted with undergraduate physics laboratory experiments and demonstrations\n",
       "\n",
       "**Johnson Bimbingan Belajar**\n",
       "* **Tuition Teacher (part time)**\n",
       "    * May 2015 - July 2015\n",
       "    * Medan\n",
       "    * Provided tutoring services in mathematics and physics to high school students\n",
       "\n",
       "**Education**\n",
       "\n",
       "**Centre for Quantum Technologies**\n",
       "* **Doctor of Philosophy (PhD) in Physics**\n",
       "    * July 2016 - July 2021\n",
       "    * National University of Singapore\n",
       "\n",
       "**National University of Singapore**\n",
       "* **Bachelor of Science (B.Sc.) in Physics**\n",
       "    * 2012 - 2016\n",
       "\n",
       "**SMA Sutomo 1 Medan**\n",
       "* **Science (IPA)**\n",
       "    * 2009 - 2012\n",
       "\n",
       "**Relevant to Senior Backend Engineer Position at SQE**\n",
       "\n",
       "* **Proficient in Java/GoLang and databases (MySQL/PostgreSQL/Cassandra)**: Extensive experience in developing and maintaining Java and GoLang applications, as well as working with various database technologies.\n",
       "* **Strong AWS or GCP experience**: Expertise in designing, deploying, and managing cloud-based applications on AWS and GCP.\n",
       "* **Excellent system design skills for scalable systems**: Proven ability to design and implement scalable, high-performance systems that can handle large volumes of data and traffic.\n",
       "* **Problem-solving and production issue troubleshooting abilities**: Strong analytical and problem-solving skills, with experience in identifying and resolving production issues in real-time.\n",
       "* **Knowledge of modern development principles**: Adherence to industry best practices and familiarity with modern software development principles, including OOP, design patterns, unit testing, and CI/CD."
      ],
      "text/plain": [
       "<IPython.core.display.Markdown object>"
      ]
     },
     "metadata": {},
     "output_type": "display_data"
    }
   ],
   "source": [
    "from IPython.display import display, Markdown\n",
    "display(Markdown(result))"
   ]
  },
  {
   "cell_type": "code",
   "execution_count": null,
   "metadata": {},
   "outputs": [],
   "source": []
  }
 ],
 "metadata": {
  "kernelspec": {
   "display_name": "Python 3",
   "language": "python",
   "name": "python3"
  },
  "language_info": {
   "codemirror_mode": {
    "name": "ipython",
    "version": 3
   },
   "file_extension": ".py",
   "mimetype": "text/x-python",
   "name": "python",
   "nbconvert_exporter": "python",
   "pygments_lexer": "ipython3",
   "version": "3.12.2"
  }
 },
 "nbformat": 4,
 "nbformat_minor": 2
}
